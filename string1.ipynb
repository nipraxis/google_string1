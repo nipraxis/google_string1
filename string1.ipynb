{
 "cells": [
  {
   "cell_type": "markdown",
   "id": "22de50c5",
   "metadata": {},
   "source": [
    "# Basic string exercises"
   ]
  },
  {
   "cell_type": "markdown",
   "id": "321f23d8",
   "metadata": {},
   "source": [
    "Copyright 2010 Google Inc. Licensed under the Apache License, Version 2.0\n",
    "<http://www.apache.org/licenses/LICENSE-2.0>"
   ]
  },
  {
   "cell_type": "markdown",
   "id": "481535e9",
   "metadata": {},
   "source": [
    "Google's Python Class:\n",
    "<http://code.google.com/edu/languages/google-python-class/>"
   ]
  },
  {
   "cell_type": "markdown",
   "id": "3d3d8b0b",
   "metadata": {},
   "source": [
    "## Introduction"
   ]
  },
  {
   "cell_type": "markdown",
   "id": "569b4da2",
   "metadata": {},
   "source": [
    "Fill in the code for the functions below.\n",
    "\n",
    "When you have filled in the code for the function, run the tests for the function in the cell below the function.\n",
    "\n",
    "The tests call the function with a few different inputs.  If the function is not correct, they will give an `AssertionError`.  If the function appears to be correct, the test cell will run without error.\n",
    "\n",
    "The starter code for each function includes a `return` which is just a\n",
    "placeholder for your code.\n",
    "\n",
    "It's OK if you do not complete all the functions, and there are some\n",
    "additional functions to try in the `google_string2` exercise."
   ]
  },
  {
   "cell_type": "markdown",
   "id": "4cbf2e87",
   "metadata": {},
   "source": [
    "## Donuts\n",
    "\n",
    "Yes, that's the US spelling of doughnuts.\n",
    "\n",
    "Given an integer count of a number of donuts, return a string of the form\n",
    "'Number of donuts: <count>', where <count> is the number passed in.\n",
    "However, if the count is 10 or more, then use the word 'many' instead of\n",
    "the actual count.\n",
    "\n",
    "So `donuts(5)` returns `'Number of donuts: 5'`\n",
    "and `donuts(23)` returns `'Number of donuts: many'`"
   ]
  },
  {
   "cell_type": "code",
   "execution_count": null,
   "id": "7906a459",
   "metadata": {},
   "outputs": [],
   "source": [
    "    #- +++your code here+++\n",
    "    return"
   ]
  },
  {
   "cell_type": "markdown",
   "id": "a418ce7c",
   "metadata": {},
   "source": [
    "Run the cell below to test your `donuts` function above.  If it appears to be correct, the cell will run without error.   If any of the tests fail, you will see an `AssertionError`:"
   ]
  },
  {
   "cell_type": "code",
   "execution_count": null,
   "id": "37b5c09c",
   "metadata": {},
   "outputs": [],
   "source": [
    "# Run this cell to test your function\n",
    "assert donuts(4) == 'Number of donuts: 4'\n",
    "assert donuts(9) == 'Number of donuts: 9'\n",
    "assert donuts(10) == 'Number of donuts: many'\n",
    "assert donuts(99) == 'Number of donuts: many'"
   ]
  },
  {
   "cell_type": "markdown",
   "id": "d866d1df",
   "metadata": {},
   "source": [
    "## both_ends\n",
    "\n",
    "Given a string `s`, return a string made of the first 2 and the last 2 chars of\n",
    "the original string, so 'spring' yields 'spng'. However, if the string length\n",
    "is less than 2, return instead the empty string."
   ]
  },
  {
   "cell_type": "code",
   "execution_count": null,
   "id": "ca156ff8",
   "metadata": {},
   "outputs": [],
   "source": [
    "    #- +++your code here+++\n",
    "    return"
   ]
  },
  {
   "cell_type": "code",
   "execution_count": null,
   "id": "c4d130c2",
   "metadata": {},
   "outputs": [],
   "source": [
    "# Run this cell to test your function\n",
    "assert both_ends('spring') == 'spng'\n",
    "assert both_ends('Hello') == 'Helo'\n",
    "assert both_ends('a') == ''\n",
    "assert both_ends('xyz') == 'xyyz'"
   ]
  },
  {
   "cell_type": "markdown",
   "id": "6c5e4cda",
   "metadata": {},
   "source": [
    "## fix_start\n",
    "\n",
    "Given a string `s`, return a string where all occurrences of its first\n",
    "character have been changed to `'*'`, except do not change the first character\n",
    "itself; e.g. `'babble'` yields `'ba**le'`\n",
    "\n",
    "Assume that the string is length 1 or more.\n",
    "\n",
    "**Hint**: `s.replace('foo', 'bar')` returns a version of string `s` where all\n",
    "instances of `'foo'` have been replaced by `'bar'`."
   ]
  },
  {
   "cell_type": "code",
   "execution_count": null,
   "id": "56553d8b",
   "metadata": {},
   "outputs": [],
   "source": [
    "    #- +++your code here+++\n",
    "    return"
   ]
  },
  {
   "cell_type": "code",
   "execution_count": null,
   "id": "7354bc70",
   "metadata": {},
   "outputs": [],
   "source": [
    "# Run this cell to test your function\n",
    "assert fix_start('babble') == 'ba**le'\n",
    "assert fix_start('aardvark') == 'a*rdv*rk'\n",
    "assert fix_start('google') == 'goo*le'\n",
    "assert fix_start('donut') == 'donut'"
   ]
  },
  {
   "cell_type": "markdown",
   "id": "c08779ef",
   "metadata": {},
   "source": [
    "## MixUp\n",
    "\n",
    "Given strings `a` and `b`, return a single string with the values in `a` and\n",
    "`b` separated by a space `'<a> <b>'`, except swap the first 2 chars of each\n",
    "string.\n",
    "\n",
    "For example:\n",
    "\n",
    "- if `a` = `'mix'`, `b` = `'pod'`, result should be `'pox mid'`\n",
    "- `'dog'`, `'dinner'` -> `'dig donner'`\n",
    "\n",
    "Assume `a` and `b` are length 2 or more."
   ]
  },
  {
   "cell_type": "code",
   "execution_count": null,
   "id": "e48f3b23",
   "metadata": {
    "lines_to_next_cell": 2
   },
   "outputs": [],
   "source": [
    "    #- +++your code here+++\n",
    "    return"
   ]
  },
  {
   "cell_type": "code",
   "execution_count": null,
   "id": "24380940",
   "metadata": {},
   "outputs": [],
   "source": [
    "# Run this cell to test your function\n",
    "assert mix_up('mix', 'pod') == 'pox mid'\n",
    "assert mix_up('dog', 'dinner') == 'dig donner'\n",
    "assert mix_up('gnash', 'sport') == 'spash gnort'\n",
    "assert mix_up('pezzy', 'firm') == 'fizzy perm'"
   ]
  },
  {
   "cell_type": "markdown",
   "id": "05bb9574",
   "metadata": {},
   "source": [
    "## That's it!\n",
    "\n",
    "You've finished the exercise."
   ]
  }
 ],
 "metadata": {
  "jupytext": {
   "cell_metadata_filter": "-all",
   "notebook_metadata_filter": "all,-language_info",
   "split_at_heading": true,
   "text_representation": {
    "extension": ".Rmd",
    "format_name": "rmarkdown",
    "format_version": "1.2",
    "jupytext_version": "1.13.7"
   }
  },
  "kernelspec": {
   "display_name": "Python 3",
   "language": "python",
   "name": "python3"
  }
 },
 "nbformat": 4,
 "nbformat_minor": 5
}
