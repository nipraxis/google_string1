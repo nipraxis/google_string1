{
 "cells": [
  {
   "cell_type": "markdown",
   "id": "9bc347ad",
   "metadata": {},
   "source": [
    "# Basic string exercises"
   ]
  },
  {
   "cell_type": "markdown",
   "id": "c37e2f32",
   "metadata": {},
   "source": [
    "Copyright 2010 Google Inc. Licensed under the Apache License, Version 2.0\n",
    "<http://www.apache.org/licenses/LICENSE-2.0>"
   ]
  },
  {
   "cell_type": "markdown",
   "id": "938c8032",
   "metadata": {},
   "source": [
    "Google's Python Class:\n",
    "<http://code.google.com/edu/languages/google-python-class/>\n"
   ]
  },
  {
   "cell_type": "markdown",
   "id": "6486136d",
   "metadata": {},
   "source": [
    "## Introduction"
   ]
  },
  {
   "cell_type": "markdown",
   "id": "2252ab9c",
   "metadata": {},
   "source": [
    "You might want to read the [Google course chapter on\n",
    "strings](https://developers.google.com/edu/python/strings).\n",
    "\n",
    "Fill in the code for the functions below.\n",
    "\n",
    "When you have filled in the code for the function, run the tests for the function in the cell below the function.\n",
    "\n",
    "The tests call the function with a few different inputs.  If the function is not correct, they will give an `AssertionError`.  If the function appears to be correct, the test cell will run without error.\n",
    "\n",
    "The starter code for each function includes a `return ...` which is just a\n",
    "placeholder for your code.\n",
    "\n",
    "It's OK if you do not complete all the functions, and there are some\n",
    "additional functions to try in the `google_string2` exercise."
   ]
  },
  {
   "cell_type": "markdown",
   "id": "5dbe1308",
   "metadata": {},
   "source": [
    "## Donuts\n",
    "\n",
    "Yes, that's the US spelling of doughnuts.\n",
    "\n",
    "Given an integer count of a number of donuts, return a string of the form\n",
    "'Number of donuts: <count>', where <count> is the number passed in.\n",
    "However, if the count is 10 or more, then use the word 'many' instead of\n",
    "the actual count.\n",
    "\n",
    "So `donuts(5)` returns `'Number of donuts: 5'`\n",
    "and `donuts(23)` returns `'Number of donuts: many'`"
   ]
  },
  {
   "cell_type": "code",
   "execution_count": 1,
   "id": "f8d56628",
   "metadata": {
    "execution": {
     "iopub.execute_input": "2022-03-27T00:37:33.775097Z",
     "iopub.status.busy": "2022-03-27T00:37:33.774432Z",
     "iopub.status.idle": "2022-03-27T00:37:33.776853Z",
     "shell.execute_reply": "2022-03-27T00:37:33.777290Z"
    }
   },
   "outputs": [],
   "source": [
    "def donuts(count):\n",
    "    if count < 10:\n",
    "        return 'Number of donuts: ' + str(count)\n",
    "    else:\n",
    "        return 'Number of donuts: many'"
   ]
  },
  {
   "cell_type": "markdown",
   "id": "1d8e301d",
   "metadata": {},
   "source": [
    "Run the cell below to test your `donuts` function above.  If it appears to be correct, the cell will run without error.   If any of the tests fail, you will see an `AssertionError`:"
   ]
  },
  {
   "cell_type": "code",
   "execution_count": 2,
   "id": "e7f0db9b",
   "metadata": {
    "execution": {
     "iopub.execute_input": "2022-03-27T00:37:33.781961Z",
     "iopub.status.busy": "2022-03-27T00:37:33.781359Z",
     "iopub.status.idle": "2022-03-27T00:37:33.783013Z",
     "shell.execute_reply": "2022-03-27T00:37:33.783431Z"
    }
   },
   "outputs": [],
   "source": [
    "# Run this cell to test your function\n",
    "assert donuts(4) == 'Number of donuts: 4'\n",
    "assert donuts(9) == 'Number of donuts: 9'\n",
    "assert donuts(10) == 'Number of donuts: many'\n",
    "assert donuts(99) == 'Number of donuts: many'"
   ]
  },
  {
   "cell_type": "markdown",
   "id": "22bdf762",
   "metadata": {},
   "source": [
    "## both_ends\n",
    "\n",
    "Given a string `s`, return a string made of the first 2 and the last 2 chars of\n",
    "the original string, so 'spring' yields 'spng'. However, if the string length\n",
    "is less than 2, return instead the empty string."
   ]
  },
  {
   "cell_type": "code",
   "execution_count": 3,
   "id": "feb491d4",
   "metadata": {
    "execution": {
     "iopub.execute_input": "2022-03-27T00:37:33.787669Z",
     "iopub.status.busy": "2022-03-27T00:37:33.787010Z",
     "iopub.status.idle": "2022-03-27T00:37:33.788898Z",
     "shell.execute_reply": "2022-03-27T00:37:33.789323Z"
    }
   },
   "outputs": [],
   "source": [
    "def both_ends(s):\n",
    "    #- +++your code here+++\n",
    "    if len(s) < 2:\n",
    "        return ''\n",
    "    first2 = s[0:2]\n",
    "    last2 = s[-2:]\n",
    "    return first2 + last2"
   ]
  },
  {
   "cell_type": "code",
   "execution_count": 4,
   "id": "889e40f0",
   "metadata": {
    "execution": {
     "iopub.execute_input": "2022-03-27T00:37:33.793261Z",
     "iopub.status.busy": "2022-03-27T00:37:33.792566Z",
     "iopub.status.idle": "2022-03-27T00:37:33.794634Z",
     "shell.execute_reply": "2022-03-27T00:37:33.795066Z"
    }
   },
   "outputs": [],
   "source": [
    "# Run this cell to test your function\n",
    "assert both_ends('spring') == 'spng'\n",
    "assert both_ends('Hello') == 'Helo'\n",
    "assert both_ends('a') == ''\n",
    "assert both_ends('xyz') == 'xyyz'"
   ]
  },
  {
   "cell_type": "markdown",
   "id": "a11c30a5",
   "metadata": {},
   "source": [
    "## fix_start\n",
    "\n",
    "Given a string `s`, return a string where all occurrences of its first\n",
    "character have been changed to `'*'`, except do not change the first character\n",
    "itself; e.g. `'babble'` yields `'ba**le'`\n",
    "\n",
    "Assume that the string is length 1 or more.\n",
    "\n",
    "**Hint**: `s.replace('foo', 'bar')` returns a version of string `s` where all\n",
    "instances of `'foo'` have been replaced by `'bar'`."
   ]
  },
  {
   "cell_type": "code",
   "execution_count": 5,
   "id": "36b40f06",
   "metadata": {
    "execution": {
     "iopub.execute_input": "2022-03-27T00:37:33.799575Z",
     "iopub.status.busy": "2022-03-27T00:37:33.798971Z",
     "iopub.status.idle": "2022-03-27T00:37:33.800820Z",
     "shell.execute_reply": "2022-03-27T00:37:33.801239Z"
    }
   },
   "outputs": [],
   "source": [
    "def fix_start(s):\n",
    "    #- +++your code here+++\n",
    "    front = s[0]\n",
    "    back = s[1:]\n",
    "    fixed_back = back.replace(front, '*')\n",
    "    return front + fixed_back"
   ]
  },
  {
   "cell_type": "code",
   "execution_count": 6,
   "id": "1c8130c9",
   "metadata": {
    "execution": {
     "iopub.execute_input": "2022-03-27T00:37:33.805234Z",
     "iopub.status.busy": "2022-03-27T00:37:33.804635Z",
     "iopub.status.idle": "2022-03-27T00:37:33.806478Z",
     "shell.execute_reply": "2022-03-27T00:37:33.806896Z"
    }
   },
   "outputs": [],
   "source": [
    "# Run this cell to test your function\n",
    "assert fix_start('babble') == 'ba**le'\n",
    "assert fix_start('aardvark') == 'a*rdv*rk'\n",
    "assert fix_start('google') == 'goo*le'\n",
    "assert fix_start('donut') == 'donut'"
   ]
  },
  {
   "cell_type": "markdown",
   "id": "b1748423",
   "metadata": {},
   "source": [
    "## MixUp\n",
    "\n",
    "Given strings `a` and `b`, return a single string with the values in `a` and\n",
    "`b` separated by a space `'<a> <b>'`, except swap the first 2 chars of each\n",
    "string.\n",
    "\n",
    "For example:\n",
    "\n",
    "- if `a` = `'mix'`, `b` = `'pod'`, result should be `'pox mid'`\n",
    "- `'dog'`, `'dinner'` -> `'dig donner'`\n",
    "\n",
    "Assume `a` and `b` are length 2 or more."
   ]
  },
  {
   "cell_type": "code",
   "execution_count": 7,
   "id": "a3f56ef2",
   "metadata": {
    "execution": {
     "iopub.execute_input": "2022-03-27T00:37:33.811058Z",
     "iopub.status.busy": "2022-03-27T00:37:33.810393Z",
     "iopub.status.idle": "2022-03-27T00:37:33.812501Z",
     "shell.execute_reply": "2022-03-27T00:37:33.813010Z"
    },
    "lines_to_next_cell": 2
   },
   "outputs": [],
   "source": [
    "def mix_up(a, b):\n",
    "    #- +++your code here+++\n",
    "    a_swapped = b[:2] + a[2:]\n",
    "    b_swapped = a[:2] + b[2:]\n",
    "    return a_swapped + ' ' + b_swapped"
   ]
  },
  {
   "cell_type": "code",
   "execution_count": 8,
   "id": "81afebb8",
   "metadata": {
    "execution": {
     "iopub.execute_input": "2022-03-27T00:37:33.817260Z",
     "iopub.status.busy": "2022-03-27T00:37:33.816610Z",
     "iopub.status.idle": "2022-03-27T00:37:33.818399Z",
     "shell.execute_reply": "2022-03-27T00:37:33.818815Z"
    }
   },
   "outputs": [],
   "source": [
    "# Run this cell to test your function\n",
    "assert mix_up('mix', 'pod') == 'pox mid'\n",
    "assert mix_up('dog', 'dinner') == 'dig donner'\n",
    "assert mix_up('gnash', 'sport') == 'spash gnort'\n",
    "assert mix_up('pezzy', 'firm') == 'fizzy perm'"
   ]
  },
  {
   "cell_type": "markdown",
   "id": "559f8092",
   "metadata": {},
   "source": [
    "## That's it!\n",
    "\n",
    "You've finished the exercise."
   ]
  }
 ],
 "metadata": {
  "jupytext": {
   "cell_metadata_filter": "-all",
   "notebook_metadata_filter": "all,-language_info",
   "split_at_heading": true,
   "text_representation": {
    "extension": ".Rmd",
    "format_name": "rmarkdown",
    "format_version": "1.2",
    "jupytext_version": "1.13.7"
   }
  },
  "kernelspec": {
   "display_name": "Python 3",
   "language": "python",
   "name": "python3"
  },
  "language_info": {
   "codemirror_mode": {
    "name": "ipython",
    "version": 3
   },
   "file_extension": ".py",
   "mimetype": "text/x-python",
   "name": "python",
   "nbconvert_exporter": "python",
   "pygments_lexer": "ipython3",
   "version": "3.8.12"
  }
 },
 "nbformat": 4,
 "nbformat_minor": 5
}
